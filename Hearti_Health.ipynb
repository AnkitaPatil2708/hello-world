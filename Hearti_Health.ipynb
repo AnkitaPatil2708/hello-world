{
  "nbformat": 4,
  "nbformat_minor": 0,
  "metadata": {
    "colab": {
      "name": "Hearti_Health.ipynb",
      "provenance": [],
      "collapsed_sections": [],
      "toc_visible": true,
      "include_colab_link": true
    },
    "kernelspec": {
      "name": "python3",
      "display_name": "Python 3"
    }
  },
  "cells": [
    {
      "cell_type": "markdown",
      "metadata": {
        "id": "view-in-github",
        "colab_type": "text"
      },
      "source": [
        "<a href=\"https://colab.research.google.com/github/AnkitaPatil2708/hello-world/blob/master/Hearti_Health.ipynb\" target=\"_parent\"><img src=\"https://colab.research.google.com/assets/colab-badge.svg\" alt=\"Open In Colab\"/></a>"
      ]
    },
    {
      "cell_type": "markdown",
      "metadata": {
        "id": "o6s7MOjZAJCe",
        "colab_type": "text"
      },
      "source": [
        "# Heart Attack Prediction "
      ]
    },
    {
      "cell_type": "markdown",
      "metadata": {
        "id": "1s4mEt75-De6",
        "colab_type": "text"
      },
      "source": [
        "\n",
        "<h2> Problem Statement </h2>"
      ]
    },
    {
      "cell_type": "markdown",
      "metadata": {
        "id": "2bVwAxvG-YxB",
        "colab_type": "text"
      },
      "source": [
        "Heart disease is one of the biggest causes of morbidity and mortality among the population of the world. Prediction of cardiovascular disease is regarded as one of the most important subjects in the section of clinical data analysis.\n",
        "and Here we start developing the prediction model using google colab Notebook  . through this notebook we analyse the insights over data by exploratory data analysis techniques.\n",
        "The Objective of the preparing notebook is to better understand and connect with the data that is features, distribution of the data and other various factors in the data that is related to disease prediction\n",
        "\n"
      ]
    },
    {
      "cell_type": "markdown",
      "metadata": {
        "id": "L_n2A-4X_rOX",
        "colab_type": "text"
      },
      "source": [
        "<h2> Description </h2>"
      ]
    },
    {
      "cell_type": "markdown",
      "metadata": {
        "id": "Zv5OwlW9_yRK",
        "colab_type": "text"
      },
      "source": [
        "Source: https://www.kaggle.com/ronitf/heart-disease-uci          \n",
        "Data: Heart.csv"
      ]
    },
    {
      "cell_type": "markdown",
      "metadata": {
        "id": "EpBJHDCE-2Kz",
        "colab_type": "text"
      },
      "source": [
        "<h2>1.1 Business objectives and constraints.</h2>"
      ]
    },
    {
      "cell_type": "markdown",
      "metadata": {
        "id": "dLk9f8qz-2NQ",
        "colab_type": "text"
      },
      "source": [
        "* No low-latency requirement.\n",
        "* Interpretability is important.\n",
        "* Errors can be very costly."
      ]
    },
    {
      "cell_type": "markdown",
      "metadata": {
        "id": "rCE4ur15-2QA",
        "colab_type": "text"
      },
      "source": [
        "<h2>Data Attribute Description</h2>\n",
        "\n",
        "<ul>\n",
        "      \n",
        "    \n",
        "<li> age --> The person's age in years</li>\n",
        "<li>sex --> The person's sex (1 = male, 0 = female)</li>\n",
        "<li>cp --> The chest pain experienced (Value 1: typical angina, Value 2: atypical angina, Value 3: non-anginal pain, Value 4: asymptomatic)</li>\n",
        "<li>trestbps --> The person's resting blood pressure (mm Hg on admission to the hospital)</li>\n",
        "<li>chol --> The person's cholesterol measurement in mg/dl</li>\n",
        "<li>fbs --> The person's fasting blood sugar (> 120 mg/dl, 1 = true; 0 = false)</li>\n",
        "<li>restecg --> Resting electrocardiographic measurement (0 = normal, 1 = having ST-T wave abnormality, 2 = showing probable or definite left ventricular hypertrophy by Estes'criteria)</li>\n",
        "<li>thalach --> The person's maximum heart rate achieved</li>\n",
        "<li>exang --> Exercise induced angina (1 = yes; 0 = no)</li>\n",
        "<li>oldpeak --> ST depression induced by exercise relative to rest ('ST' relates to positions on the ECG plot. See more here)</li>\n",
        "<li>slope: the slope of the peak exercise ST segment (Value 1: upsloping, Value 2: flat, Value 3: downsloping)</li>\n",
        "<li>ca --> The number of major vessels (0-3)</li>\n",
        "<li>thal --> A blood disorder called thalassemia (3 = normal; 6 = fixed defect; 7 = reversable defect)</li>\n",
        "<li>target --> Heart disease (0 = no, 1 = yes)</li>\n",
        "\n",
        "</ul>"
      ]
    },
    {
      "cell_type": "markdown",
      "metadata": {
        "id": "C2AZhDAW98qZ",
        "colab_type": "text"
      },
      "source": [
        "<h2>Importing Libraries</h2>"
      ]
    },
    {
      "cell_type": "code",
      "metadata": {
        "id": "rDrji9YF9nxI",
        "colab_type": "code",
        "colab": {}
      },
      "source": [
        "import warnings\n",
        "warnings.simplefilter(\"ignore\")\n",
        "\n",
        "# linear algebra Library\n",
        "import numpy as np \n",
        "\n",
        "# data processing, CSV file I/O (e.g. pd.read_csv)\n",
        "import pandas as pd \n",
        "\n",
        "# Plotting graphs Libraries\n",
        "import matplotlib.pyplot as plt\n",
        "import seaborn as sns; sns.set()\n",
        "\n",
        "# Saving data\n",
        "# import pickle\n",
        "import joblib\n",
        "\n",
        "#Model\n",
        "from sklearn.ensemble import RandomForestClassifier\n",
        "\n",
        "# Input data files are available in the \"../input/\" directory.\n",
        "# For example, running this (by clicking run or pressing Shift+Enter) will list the files in the input directory\n",
        "import os\n",
        "\n",
        "# Import tools\n",
        "from sklearn.preprocessing import StandardScaler\n",
        "from sklearn.model_selection import train_test_split\n",
        "from sklearn.model_selection import cross_val_score\n",
        "from sklearn.metrics import accuracy_score, confusion_matrix, classification_report\n",
        "from sklearn.metrics import roc_curve, auc\n",
        "import os, sys"
      ],
      "execution_count": 0,
      "outputs": []
    },
    {
      "cell_type": "markdown",
      "metadata": {
        "id": "AyWKn9tcMSm7",
        "colab_type": "text"
      },
      "source": [
        "<h2> Reading the data </h2>"
      ]
    },
    {
      "cell_type": "code",
      "metadata": {
        "id": "79qafMzSLyRG",
        "colab_type": "code",
        "colab": {}
      },
      "source": [
        "df = pd.read_csv(\"heart.csv\")\n",
        "X = df.drop(['target'], axis=1).values\n",
        "y = df['target'].values"
      ],
      "execution_count": 0,
      "outputs": []
    },
    {
      "cell_type": "code",
      "metadata": {
        "id": "zYJoI3qtdBQM",
        "colab_type": "code",
        "outputId": "b346bac6-5ea6-493e-a511-df4a17fedca3",
        "colab": {
          "base_uri": "https://localhost:8080/",
          "height": 204
        }
      },
      "source": [
        "df.tail()"
      ],
      "execution_count": 7,
      "outputs": [
        {
          "output_type": "execute_result",
          "data": {
            "text/html": [
              "<div>\n",
              "<style scoped>\n",
              "    .dataframe tbody tr th:only-of-type {\n",
              "        vertical-align: middle;\n",
              "    }\n",
              "\n",
              "    .dataframe tbody tr th {\n",
              "        vertical-align: top;\n",
              "    }\n",
              "\n",
              "    .dataframe thead th {\n",
              "        text-align: right;\n",
              "    }\n",
              "</style>\n",
              "<table border=\"1\" class=\"dataframe\">\n",
              "  <thead>\n",
              "    <tr style=\"text-align: right;\">\n",
              "      <th></th>\n",
              "      <th>age</th>\n",
              "      <th>sex</th>\n",
              "      <th>cp</th>\n",
              "      <th>trestbps</th>\n",
              "      <th>chol</th>\n",
              "      <th>fbs</th>\n",
              "      <th>restecg</th>\n",
              "      <th>thalach</th>\n",
              "      <th>exang</th>\n",
              "      <th>oldpeak</th>\n",
              "      <th>slope</th>\n",
              "      <th>ca</th>\n",
              "      <th>thal</th>\n",
              "      <th>target</th>\n",
              "    </tr>\n",
              "  </thead>\n",
              "  <tbody>\n",
              "    <tr>\n",
              "      <th>298</th>\n",
              "      <td>57</td>\n",
              "      <td>0</td>\n",
              "      <td>0</td>\n",
              "      <td>140</td>\n",
              "      <td>241</td>\n",
              "      <td>0</td>\n",
              "      <td>1</td>\n",
              "      <td>123</td>\n",
              "      <td>1</td>\n",
              "      <td>0.2</td>\n",
              "      <td>1</td>\n",
              "      <td>0</td>\n",
              "      <td>3</td>\n",
              "      <td>0</td>\n",
              "    </tr>\n",
              "    <tr>\n",
              "      <th>299</th>\n",
              "      <td>45</td>\n",
              "      <td>1</td>\n",
              "      <td>3</td>\n",
              "      <td>110</td>\n",
              "      <td>264</td>\n",
              "      <td>0</td>\n",
              "      <td>1</td>\n",
              "      <td>132</td>\n",
              "      <td>0</td>\n",
              "      <td>1.2</td>\n",
              "      <td>1</td>\n",
              "      <td>0</td>\n",
              "      <td>3</td>\n",
              "      <td>0</td>\n",
              "    </tr>\n",
              "    <tr>\n",
              "      <th>300</th>\n",
              "      <td>68</td>\n",
              "      <td>1</td>\n",
              "      <td>0</td>\n",
              "      <td>144</td>\n",
              "      <td>193</td>\n",
              "      <td>1</td>\n",
              "      <td>1</td>\n",
              "      <td>141</td>\n",
              "      <td>0</td>\n",
              "      <td>3.4</td>\n",
              "      <td>1</td>\n",
              "      <td>2</td>\n",
              "      <td>3</td>\n",
              "      <td>0</td>\n",
              "    </tr>\n",
              "    <tr>\n",
              "      <th>301</th>\n",
              "      <td>57</td>\n",
              "      <td>1</td>\n",
              "      <td>0</td>\n",
              "      <td>130</td>\n",
              "      <td>131</td>\n",
              "      <td>0</td>\n",
              "      <td>1</td>\n",
              "      <td>115</td>\n",
              "      <td>1</td>\n",
              "      <td>1.2</td>\n",
              "      <td>1</td>\n",
              "      <td>1</td>\n",
              "      <td>3</td>\n",
              "      <td>0</td>\n",
              "    </tr>\n",
              "    <tr>\n",
              "      <th>302</th>\n",
              "      <td>57</td>\n",
              "      <td>0</td>\n",
              "      <td>1</td>\n",
              "      <td>130</td>\n",
              "      <td>236</td>\n",
              "      <td>0</td>\n",
              "      <td>0</td>\n",
              "      <td>174</td>\n",
              "      <td>0</td>\n",
              "      <td>0.0</td>\n",
              "      <td>1</td>\n",
              "      <td>1</td>\n",
              "      <td>2</td>\n",
              "      <td>0</td>\n",
              "    </tr>\n",
              "  </tbody>\n",
              "</table>\n",
              "</div>"
            ],
            "text/plain": [
              "     age  sex  cp  trestbps  chol  fbs  ...  exang  oldpeak  slope  ca  thal  target\n",
              "298   57    0   0       140   241    0  ...      1      0.2      1   0     3       0\n",
              "299   45    1   3       110   264    0  ...      0      1.2      1   0     3       0\n",
              "300   68    1   0       144   193    1  ...      0      3.4      1   2     3       0\n",
              "301   57    1   0       130   131    0  ...      1      1.2      1   1     3       0\n",
              "302   57    0   1       130   236    0  ...      0      0.0      1   1     2       0\n",
              "\n",
              "[5 rows x 14 columns]"
            ]
          },
          "metadata": {
            "tags": []
          },
          "execution_count": 7
        }
      ]
    },
    {
      "cell_type": "code",
      "metadata": {
        "id": "Sn4KNbHq6SGR",
        "colab_type": "code",
        "colab": {
          "base_uri": "https://localhost:8080/",
          "height": 68
        },
        "outputId": "1db7f0c3-6dc0-4876-a7b1-def5477bc934"
      },
      "source": [
        "df.target.value_counts()"
      ],
      "execution_count": 8,
      "outputs": [
        {
          "output_type": "execute_result",
          "data": {
            "text/plain": [
              "1    165\n",
              "0    138\n",
              "Name: target, dtype: int64"
            ]
          },
          "metadata": {
            "tags": []
          },
          "execution_count": 8
        }
      ]
    },
    {
      "cell_type": "code",
      "metadata": {
        "id": "GJ5dg62V6ka-",
        "colab_type": "code",
        "colab": {
          "base_uri": "https://localhost:8080/",
          "height": 285
        },
        "outputId": "53caaf05-9f4d-43ca-abff-099a2302fda8"
      },
      "source": [
        "sns.countplot(x= \"target\",data = df)\n",
        "plt.xlabel(\"Target 0 = No of disease, 1 = Disease\")\n",
        "plt.show()"
      ],
      "execution_count": 12,
      "outputs": [
        {
          "output_type": "display_data",
          "data": {
            "image/png": "[encoded data removed]",
            "text/plain": [
              "<Figure size 432x288 with 1 Axes>"
            ]
          },
          "metadata": {
            "tags": []
          }
        }
      ]
    },
    {
      "cell_type": "code",
      "metadata": {
        "id": "-tZRPjCZ7dz6",
        "colab_type": "code",
        "colab": {
          "base_uri": "https://localhost:8080/",
          "height": 68
        },
        "outputId": "45d6b983-c55e-4ae8-85f5-c36d6a35fa25"
      },
      "source": [
        "\n",
        "df.fbs.value_counts()"
      ],
      "execution_count": 13,
      "outputs": [
        {
          "output_type": "execute_result",
          "data": {
            "text/plain": [
              "0    258\n",
              "1     45\n",
              "Name: fbs, dtype: int64"
            ]
          },
          "metadata": {
            "tags": []
          },
          "execution_count": 13
        }
      ]
    },
    {
      "cell_type": "code",
      "metadata": {
        "id": "0aUYnaLz7zRf",
        "colab_type": "code",
        "colab": {
          "base_uri": "https://localhost:8080/",
          "height": 285
        },
        "outputId": "76093246-4b6e-48ef-9dc0-6788037a6b18"
      },
      "source": [
        "sns.countplot(x =\"fbs\",data=df)\n",
        "plt.xlabel(\"Fbs\")\n",
        "plt.show()"
      ],
      "execution_count": 14,
      "outputs": [
        {
          "output_type": "display_data",
          "data": {
            "image/png": "[encoded data removed]",
            "text/plain": [
              "<Figure size 432x288 with 1 Axes>"
            ]
          },
          "metadata": {
            "tags": []
          }
        }
      ]
    },
    {
      "cell_type": "markdown",
      "metadata": {
        "id": "KW6SjMDmMVfL",
        "colab_type": "text"
      },
      "source": [
        "<h2> Dividing the data into train and test </h2>"
      ]
    },
    {
      "cell_type": "code",
      "metadata": {
        "id": "g2ZQivW-LyaC",
        "colab_type": "code",
        "colab": {}
      },
      "source": [
        "X_train, X_test, y_train, y_test = train_test_split(X, y, test_size=0.2, random_state=42)"
      ],
      "execution_count": 0,
      "outputs": []
    },
    {
      "cell_type": "markdown",
      "metadata": {
        "id": "Mk-uimgTMytT",
        "colab_type": "text"
      },
      "source": [
        "<h2>Training the model</h2>"
      ]
    },
    {
      "cell_type": "code",
      "metadata": {
        "id": "zYm3ms3DLyca",
        "colab_type": "code",
        "outputId": "fdea4d19-6fb0-4ff1-e912-d889c2aa90c7",
        "colab": {
          "base_uri": "https://localhost:8080/",
          "height": 153
        }
      },
      "source": [
        "# Initializing the model\n",
        "model = RandomForestClassifier()  \n",
        "# Training the model\n",
        "model.fit(X_train,y_train)"
      ],
      "execution_count": 16,
      "outputs": [
        {
          "output_type": "execute_result",
          "data": {
            "text/plain": [
              "RandomForestClassifier(bootstrap=True, ccp_alpha=0.0, class_weight=None,\n",
              "                       criterion='gini', max_depth=None, max_features='auto',\n",
              "                       max_leaf_nodes=None, max_samples=None,\n",
              "                       min_impurity_decrease=0.0, min_impurity_split=None,\n",
              "                       min_samples_leaf=1, min_samples_split=2,\n",
              "                       min_weight_fraction_leaf=0.0, n_estimators=100,\n",
              "                       n_jobs=None, oob_score=False, random_state=None,\n",
              "                       verbose=0, warm_start=False)"
            ]
          },
          "metadata": {
            "tags": []
          },
          "execution_count": 16
        }
      ]
    },
    {
      "cell_type": "markdown",
      "metadata": {
        "id": "kDriN3-tO2vf",
        "colab_type": "text"
      },
      "source": [
        "<h2> Predicting from the trained model on test data </h2>"
      ]
    },
    {
      "cell_type": "code",
      "metadata": {
        "id": "zC9omKQTLyfU",
        "colab_type": "code",
        "colab": {}
      },
      "source": [
        "y_pred = model.predict(X_test)"
      ],
      "execution_count": 0,
      "outputs": []
    },
    {
      "cell_type": "markdown",
      "metadata": {
        "id": "odkNmfMxM_W2",
        "colab_type": "text"
      },
      "source": [
        "<h2>Checking Accuracy</h2>"
      ]
    },
    {
      "cell_type": "code",
      "metadata": {
        "id": "P4XJhaMqLyh6",
        "colab_type": "code",
        "outputId": "b812689b-64c7-47ee-9eeb-a4f3cb60fbf9",
        "colab": {
          "base_uri": "https://localhost:8080/",
          "height": 34
        }
      },
      "source": [
        "accuracy = accuracy_score(y_test, y_pred)\n",
        "print(\"accuracy percentage on test data:\",accuracy*100)"
      ],
      "execution_count": 18,
      "outputs": [
        {
          "output_type": "stream",
          "text": [
            "accuracy percentage on test data: 85.24590163934425\n"
          ],
          "name": "stdout"
        }
      ]
    },
    {
      "cell_type": "markdown",
      "metadata": {
        "id": "w7mMRr07NYSb",
        "colab_type": "text"
      },
      "source": [
        "<h2>Confusion Matrix</h2>"
      ]
    },
    {
      "cell_type": "code",
      "metadata": {
        "id": "fSgfELusLykX",
        "colab_type": "code",
        "outputId": "e3501fd5-87df-4180-dcee-3b90bb35fe9a",
        "colab": {
          "base_uri": "https://localhost:8080/",
          "height": 339
        }
      },
      "source": [
        "# (This is done to determine how model is performing on negative and positive data)\n",
        "plt.figure(figsize=(5, 5))\n",
        "mat = confusion_matrix(y_test, y_pred)\n",
        "sns.heatmap(mat.T, square=True, \n",
        "            annot=True, \n",
        "            cbar=False, \n",
        "            xticklabels=[\"Haven't Disease\", \"Have Disease\"], \n",
        "            yticklabels=[\"Haven't Disease\", \"Have Disease\"])\n",
        "plt.xlabel('Predicted Values')\n",
        "plt.ylabel('True Values')\n",
        "plt.show()"
      ],
      "execution_count": 19,
      "outputs": [
        {
          "output_type": "display_data",
          "data": {
            "image/png": "[encoded data removed]",
            "text/plain": [
              "<Figure size 360x360 with 1 Axes>"
            ]
          },
          "metadata": {
            "tags": []
          }
        }
      ]
    },
    {
      "cell_type": "markdown",
      "metadata": {
        "id": "h74X6JVON1BL",
        "colab_type": "text"
      },
      "source": [
        "<h2>Receiver Operating Characteristic Plot</h2>"
      ]
    },
    {
      "cell_type": "code",
      "metadata": {
        "id": "j8rlfI6HNaXj",
        "colab_type": "code",
        "outputId": "7787b5c0-717c-4cc7-e7e5-36d0a5ad809b",
        "colab": {
          "base_uri": "https://localhost:8080/",
          "height": 410
        }
      },
      "source": [
        "# Getting ROC AUC curve to check model performance\n",
        "y_prob = model.predict_proba(X_test)[:,1]\n",
        "fpr, tpr, thr = roc_curve(y_test, y_prob)\n",
        "lw = 2\n",
        "plt.figure(figsize=(8, 6))\n",
        "plt.plot(fpr, tpr, \n",
        "          color='darkorange', \n",
        "          lw=lw, \n",
        "          label=\"Curve Area = %0.3f\" % auc(fpr, tpr))\n",
        "plt.plot([0, 1], [0, 1], color='green', \n",
        "          lw=lw, linestyle='--')\n",
        "plt.xlabel('False Positive Rate')\n",
        "plt.ylabel('True Positive Rate')\n",
        "plt.title('Receiver Operating Characteristic Plot')\n",
        "plt.legend(loc=\"lower right\")\n",
        "plt.show()"
      ],
      "execution_count": 20,
      "outputs": [
        {
          "output_type": "display_data",
          "data": {
            "image/png": "[encoded data removed]",
            "text/plain": [
              "<Figure size 576x432 with 1 Axes>"
            ]
          },
          "metadata": {
            "tags": []
          }
        }
      ]
    },
    {
      "cell_type": "markdown",
      "metadata": {
        "id": "89o0p841N4Y9",
        "colab_type": "text"
      },
      "source": [
        "<h2>Classification Report</h2>"
      ]
    },
    {
      "cell_type": "code",
      "metadata": {
        "id": "si7L6dxBNqII",
        "colab_type": "code",
        "outputId": "9713a347-0ca1-496f-e08b-d044e1fb74c2",
        "colab": {
          "base_uri": "https://localhost:8080/",
          "height": 217
        }
      },
      "source": [
        "# Checking multiplication report over the model performance\n",
        "print(\" Classification Report\" + \"\\n\" + \"=\"*60)\n",
        "print(classification_report(y_test,\n",
        "                            y_pred,\n",
        "                            target_names=['Non Disease', 'Disease']))"
      ],
      "execution_count": 0,
      "outputs": [
        {
          "output_type": "stream",
          "text": [
            " Classification Report\n",
            "============================================================\n",
            "              precision    recall  f1-score   support\n",
            "\n",
            " Non Disease       0.89      0.86      0.88        29\n",
            "     Disease       0.88      0.91      0.89        32\n",
            "\n",
            "    accuracy                           0.89        61\n",
            "   macro avg       0.89      0.88      0.88        61\n",
            "weighted avg       0.89      0.89      0.89        61\n",
            "\n"
          ],
          "name": "stdout"
        }
      ]
    },
    {
      "cell_type": "markdown",
      "metadata": {
        "id": "y0WlxMZpQGYq",
        "colab_type": "text"
      },
      "source": [
        "<h2>Top 5 features</h2>"
      ]
    },
    {
      "cell_type": "code",
      "metadata": {
        "id": "gjmoNYIlQP1m",
        "colab_type": "code",
        "colab": {}
      },
      "source": [
        "#Names of the features\n",
        "features_name = [\"age\",\"sex\",\"cp\",\"trestbps\",\"chol\",\"fbs\",\"restecg\",\"thalach\",\"exang\",\"oldPeak\",\"slope\",\"ca\",\"thal\"]\n",
        "\n",
        "#Getting important features from the model\n",
        "importances = model.feature_importances_\n"
      ],
      "execution_count": 0,
      "outputs": []
    },
    {
      "cell_type": "code",
      "metadata": {
        "id": "yxYXFUPmQyAV",
        "colab_type": "code",
        "outputId": "6850a6b7-9286-46cb-eeab-1589f3b37201",
        "colab": {
          "base_uri": "https://localhost:8080/",
          "height": 108
        }
      },
      "source": [
        "imp = np.argsort(importances)[::-1][:5]\n",
        "\n",
        "\n",
        "count = 0\n",
        "for index,feature_index in enumerate(imp):\n",
        "    print(str(index + 1) + '  ' + features_name[feature_index])\n"
      ],
      "execution_count": 0,
      "outputs": [
        {
          "output_type": "stream",
          "text": [
            "1  ca\n",
            "2  oldPeak\n",
            "3  cp\n",
            "4  thalach\n",
            "5  thal\n"
          ],
          "name": "stdout"
        }
      ]
    },
    {
      "cell_type": "markdown",
      "metadata": {
        "id": "rqaSKME9Ayub",
        "colab_type": "text"
      },
      "source": [
        "<h2> Checking for a patient</h2>"
      ]
    },
    {
      "cell_type": "code",
      "metadata": {
        "id": "CSOA3QouA76i",
        "colab_type": "code",
        "colab": {}
      },
      "source": [
        "#[\"age\",\"sex\",\"cp\",\"trestbps\",\"chol\",\"fbs\",\"restecg\",\"thalach\",\"exang\",\"oldPeak\",\"slope\",\"ca\",\"thal\"]\n",
        "\n",
        "patient_data = [27,1,3,123,100,1,0,187,0,2.8,0,0,1]\n",
        "data  = np.array(list(patient_data)).reshape(1, -1)"
      ],
      "execution_count": 0,
      "outputs": []
    },
    {
      "cell_type": "code",
      "metadata": {
        "id": "J3VhkXFpiw6j",
        "colab_type": "code",
        "outputId": "f66ab862-148d-45fe-fdef-5f315a6fb406",
        "colab": {
          "base_uri": "https://localhost:8080/",
          "height": 35
        }
      },
      "source": [
        "model.predict(data)"
      ],
      "execution_count": 0,
      "outputs": [
        {
          "output_type": "execute_result",
          "data": {
            "text/plain": [
              "array([1])"
            ]
          },
          "metadata": {
            "tags": []
          },
          "execution_count": 43
        }
      ]
    },
    {
      "cell_type": "code",
      "metadata": {
        "id": "GXHLzbLDCmVX",
        "colab_type": "code",
        "outputId": "d747873c-0f92-40f9-f3f2-19e87032da29",
        "colab": {
          "base_uri": "https://localhost:8080/",
          "height": 35
        }
      },
      "source": [
        "if model.predict(data)[0] == 1:\n",
        "  print(\"Person will get a heart attack\")\n",
        "else:\n",
        "  print(\"You are safe\")"
      ],
      "execution_count": 0,
      "outputs": [
        {
          "output_type": "stream",
          "text": [
            "Person will get a heart attack\n"
          ],
          "name": "stdout"
        }
      ]
    },
    {
      "cell_type": "markdown",
      "metadata": {
        "id": "K8qr0UpqOR5T",
        "colab_type": "text"
      },
      "source": [
        "<h2>Saving the Model</h2>"
      ]
    },
    {
      "cell_type": "code",
      "metadata": {
        "id": "qxpqDcqxN9T6",
        "colab_type": "code",
        "colab": {}
      },
      "source": [
        "joblib.dump(model, open(\"model.joblib\", 'wb'))"
      ],
      "execution_count": 0,
      "outputs": []
    },
    {
      "cell_type": "code",
      "metadata": {
        "id": "GNlzapUVOPBb",
        "colab_type": "code",
        "colab": {}
      },
      "source": [
        ""
      ],
      "execution_count": 0,
      "outputs": []
    }
  ]
}